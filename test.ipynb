{
 "cells": [
  {
   "cell_type": "markdown",
   "metadata": {},
   "source": [
    "shape of movies"
   ]
  },
  {
   "cell_type": "code",
   "execution_count": 1,
   "metadata": {},
   "outputs": [
    {
     "data": {
      "text/plain": [
       "(9742, 3)"
      ]
     },
     "execution_count": 1,
     "metadata": {},
     "output_type": "execute_result"
    }
   ],
   "source": [
    "import pandas as pd\n",
    "\n",
    "\n",
    "movies_path = 'movies.csv'\n",
    "movies_df = pd.read_csv(movies_path)\n",
    "\n",
    "\n",
    "movies_shape = movies_df.shape\n",
    "movies_shape\n"
   ]
  },
  {
   "cell_type": "markdown",
   "metadata": {},
   "source": [
    "shape of ratings"
   ]
  },
  {
   "cell_type": "code",
   "execution_count": 5,
   "metadata": {},
   "outputs": [
    {
     "data": {
      "text/plain": [
       "(100836, 4)"
      ]
     },
     "execution_count": 5,
     "metadata": {},
     "output_type": "execute_result"
    }
   ],
   "source": [
    "import pandas as pd\n",
    "\n",
    "ratings_path = 'ratings.csv'\n",
    "ratings_df = pd.read_csv(ratings_path)\n",
    "\n",
    "\n",
    "ratings_shape = ratings_df.shape\n",
    "ratings_shape\n"
   ]
  },
  {
   "cell_type": "markdown",
   "metadata": {},
   "source": [
    "unique id in ratings"
   ]
  },
  {
   "cell_type": "code",
   "execution_count": 12,
   "metadata": {},
   "outputs": [
    {
     "data": {
      "text/plain": [
       "610"
      ]
     },
     "execution_count": 12,
     "metadata": {},
     "output_type": "execute_result"
    }
   ],
   "source": [
    "\n",
    "unique_user_ids = ratings_df['userId'].nunique()\n",
    "unique_user_ids\n"
   ]
  },
  {
   "cell_type": "markdown",
   "metadata": {},
   "source": [
    "most rated movie title"
   ]
  },
  {
   "cell_type": "code",
   "execution_count": 13,
   "metadata": {},
   "outputs": [
    {
     "data": {
      "text/plain": [
       "('Forrest Gump (1994)', np.int64(329))"
      ]
     },
     "execution_count": 13,
     "metadata": {},
     "output_type": "execute_result"
    }
   ],
   "source": [
    "\n",
    "most_rated_movie_id = ratings_df['movieId'].value_counts().idxmax()\n",
    "most_rated_movie_count = ratings_df['movieId'].value_counts().max()\n",
    "\n",
    "\n",
    "most_rated_movie_title = movies_df[movies_df['movieId'] == most_rated_movie_id]['title'].values[0]\n",
    "most_rated_movie_title, most_rated_movie_count\n"
   ]
  },
  {
   "cell_type": "markdown",
   "metadata": {},
   "source": [
    "tags associated with matrix"
   ]
  },
  {
   "cell_type": "code",
   "execution_count": 14,
   "metadata": {},
   "outputs": [
    {
     "name": "stdout",
     "output_type": "stream",
     "text": [
      "Empty DataFrame\n",
      "Columns: [movieId, title, genres]\n",
      "Index: []\n"
     ]
    },
    {
     "name": "stderr",
     "output_type": "stream",
     "text": [
      "C:\\Users\\Chandan\\AppData\\Local\\Temp\\ipykernel_8752\\942383609.py:1: UserWarning: This pattern is interpreted as a regular expression, and has match groups. To actually get the groups, use str.extract.\n",
      "  matrix_tags = movies_df[movies_df['title'].str.contains(\"Matrix, The (1999)\", case=False)]\n"
     ]
    }
   ],
   "source": [
    "\n",
    "matrix_tags = movies_df[movies_df['title'].str.contains(\"Matrix, The (1999)\", case=False)]\n",
    "matrix_tags\n",
    "print(matrix_tags)\n"
   ]
  },
  {
   "cell_type": "markdown",
   "metadata": {},
   "source": [
    "ratings filter"
   ]
  },
  {
   "cell_type": "code",
   "execution_count": 8,
   "metadata": {},
   "outputs": [],
   "source": [
    "\n",
    "ratings_count = ratings_df['movieId'].value_counts()\n",
    "\n",
    "\n",
    "movies_with_50_ratings = ratings_count[ratings_count > 50].index\n"
   ]
  },
  {
   "cell_type": "markdown",
   "metadata": {},
   "source": [
    "highest rate counts"
   ]
  },
  {
   "cell_type": "code",
   "execution_count": null,
   "metadata": {},
   "outputs": [],
   "source": [
    "from imdb import IMDb\n",
    "import pandas as pd\n",
    "\n",
    "ratings_df = pd.read_csv('ratings.csv')\n",
    "links_df = pd.read_csv('links.csv')\n",
    "\n",
    "ia = IMDb()\n",
    "\n",
    "movies_with_50_ratings = ratings_df['movieId'].value_counts()\n",
    "movies_with_50_ratings = movies_with_50_ratings[movies_with_50_ratings > 50].index\n",
    "\n",
    "highest_rating = 0\n",
    "highest_rated_movie_id = None\n",
    "\n",
    "for movie_id in movies_with_50_ratings:\n",
    "    imdb_id = links_df.loc[links_df['movieId'] == movie_id, 'imdbId'].values[0]\n",
    "    movie = ia.get_movie(imdb_id)\n",
    "    rating = movie.get('rating')\n",
    "    \n",
    "    if rating and rating > highest_rating:\n",
    "        highest_rating = rating\n",
    "        highest_rated_movie_id = movie_id\n",
    "\n",
    "print(f\"Movie with the highest IMDb rating: {highest_rated_movie_id}\")\n"
   ]
  },
  {
   "cell_type": "code",
   "execution_count": null,
   "metadata": {},
   "outputs": [],
   "source": [
    "from imdb import IMDb\n",
    "import pandas as pd\n",
    "\n",
    "ratings_df = pd.read_csv('ratings.csv')\n",
    "links_df = pd.read_csv('links.csv')\n",
    "movies_df = pd.read_csv('movies.csv')\n",
    "\n",
    "ia = IMDb()\n",
    "\n",
    "movies_with_50_ratings = ratings_df['movieId'].value_counts()\n",
    "movies_with_50_ratings = movies_with_50_ratings[movies_with_50_ratings > 50].index\n",
    "\n",
    "sci_fi_movies = movies_df[movies_df['genres'].str.contains('Sci-Fi')]['movieId']\n",
    "\n",
    "highest_sci_fi_rating = 0\n",
    "highest_rated_sci_fi_movie_id = None\n",
    "\n",
    "for movie_id in sci_fi_movies.intersection(movies_with_50_ratings):\n",
    "    imdb_id = links_df.loc[links_df['movieId'] == movie_id, 'imdbId'].values[0]\n",
    "    movie = ia.get_movie(imdb_id)\n",
    "    rating = movie.get('rating')\n",
    "    \n",
    "    if rating and rating > highest_sci_fi_rating:\n",
    "        highest_sci_fi_rating = rating\n",
    "        highest_rated_sci_fi_movie_id = movie_id\n",
    "\n",
    "print(f\"Sci-Fi movie with the highest IMDb rating: {highest_rated_sci_fi_movie_id}\")\n"
   ]
  }
 ],
 "metadata": {
  "kernelspec": {
   "display_name": ".venv",
   "language": "python",
   "name": "python3"
  },
  "language_info": {
   "codemirror_mode": {
    "name": "ipython",
    "version": 3
   },
   "file_extension": ".py",
   "mimetype": "text/x-python",
   "name": "python",
   "nbconvert_exporter": "python",
   "pygments_lexer": "ipython3",
   "version": "3.11.9"
  }
 },
 "nbformat": 4,
 "nbformat_minor": 2
}
